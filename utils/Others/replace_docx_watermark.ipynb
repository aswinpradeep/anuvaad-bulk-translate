{
 "cells": [
  {
   "cell_type": "code",
   "execution_count": 1,
   "metadata": {},
   "outputs": [
    {
     "ename": "FileNotFoundError",
     "evalue": "[Errno 2] No such file or directory: './word/media/image15370d0048373f.png'",
     "output_type": "error",
     "traceback": [
      "\u001b[0;31m---------------------------------------------------------------------------\u001b[0m",
      "\u001b[0;31mFileNotFoundError\u001b[0m                         Traceback (most recent call last)",
      "\u001b[1;32m/home/rathan/Downloads/Code/Others/Anuvaad Bulk Upload with Tracking and Download/utils/Others/replace_docx_watermark.ipynb Cell 1\u001b[0m in \u001b[0;36m<cell line: 26>\u001b[0;34m()\u001b[0m\n\u001b[1;32m     <a href='vscode-notebook-cell:/home/rathan/Downloads/Code/Others/Anuvaad%20Bulk%20Upload%20with%20Tracking%20and%20Download/utils/Others/replace_docx_watermark.ipynb#W0sZmlsZQ%3D%3D?line=22'>23</a>\u001b[0m \u001b[39m# img_file=find('*image4.png', media_path)\u001b[39;00m\n\u001b[1;32m     <a href='vscode-notebook-cell:/home/rathan/Downloads/Code/Others/Anuvaad%20Bulk%20Upload%20with%20Tracking%20and%20Download/utils/Others/replace_docx_watermark.ipynb#W0sZmlsZQ%3D%3D?line=23'>24</a>\u001b[0m img_file \u001b[39m=\u001b[39m os\u001b[39m.\u001b[39mpath\u001b[39m.\u001b[39mjoin(media_path, \u001b[39m\"\u001b[39m\u001b[39mimage15370d0048373f.png\u001b[39m\u001b[39m\"\u001b[39m)\n\u001b[0;32m---> <a href='vscode-notebook-cell:/home/rathan/Downloads/Code/Others/Anuvaad%20Bulk%20Upload%20with%20Tracking%20and%20Download/utils/Others/replace_docx_watermark.ipynb#W0sZmlsZQ%3D%3D?line=25'>26</a>\u001b[0m os\u001b[39m.\u001b[39;49mremove(img_file)\n\u001b[1;32m     <a href='vscode-notebook-cell:/home/rathan/Downloads/Code/Others/Anuvaad%20Bulk%20Upload%20with%20Tracking%20and%20Download/utils/Others/replace_docx_watermark.ipynb#W0sZmlsZQ%3D%3D?line=28'>29</a>\u001b[0m shutil\u001b[39m.\u001b[39mcopy(watermark_path, img_file)\n\u001b[1;32m     <a href='vscode-notebook-cell:/home/rathan/Downloads/Code/Others/Anuvaad%20Bulk%20Upload%20with%20Tracking%20and%20Download/utils/Others/replace_docx_watermark.ipynb#W0sZmlsZQ%3D%3D?line=31'>32</a>\u001b[0m \u001b[39mdef\u001b[39;00m \u001b[39mzip_directory\u001b[39m(folder_path, zip_path):\n",
      "\u001b[0;31mFileNotFoundError\u001b[0m: [Errno 2] No such file or directory: './word/media/image15370d0048373f.png'"
     ]
    }
   ],
   "source": [
    "import os\n",
    "import fnmatch\n",
    "import zipfile\n",
    "import shutil \n",
    "def find(pattern, path):\n",
    "    result = []\n",
    "    for root, dirs, files in os.walk(path):\n",
    "        for name in files:\n",
    "            if fnmatch.fnmatch(name, pattern):\n",
    "                result.append(os.path.join(root, name))\n",
    "    return result\n",
    "\n",
    "\n",
    "src_file = \"./1955_2_881_887_updated.docx\"\n",
    "out_dir = \"./\"\n",
    "des_file = \"./modifid_watermarkImage.docx\"\n",
    "watermark_path = \"./wt.png\"\n",
    "\n",
    "with zipfile.ZipFile(src_file, 'r') as zip_ref:\n",
    "    zip_ref.extractall(out_dir)\n",
    "\n",
    "media_path = os.path.join(out_dir, \"word\", \"media\")\n",
    "# img_file=find('*image4.png', media_path)\n",
    "img_file = os.path.join(media_path, \"image15370d0048373f.png\")\n",
    "\n",
    "os.remove(img_file)\n",
    "\n",
    "\n",
    "shutil.copy(watermark_path, img_file)\n",
    "\n",
    "\n",
    "def zip_directory(folder_path, zip_path):\n",
    "    with zipfile.ZipFile(zip_path, mode='w') as zipf:\n",
    "        len_dir_path = len(folder_path)\n",
    "        for root, _, files in os.walk(folder_path):\n",
    "            for file in files:\n",
    "                file_path = os.path.join(root, file)\n",
    "                zipf.write(file_path, file_path[len_dir_path:])\n",
    "\n",
    "\n",
    "zip_directory(out_dir, des_file)"
   ]
  }
 ],
 "metadata": {
  "kernelspec": {
   "display_name": "base",
   "language": "python",
   "name": "python3"
  },
  "language_info": {
   "codemirror_mode": {
    "name": "ipython",
    "version": 3
   },
   "file_extension": ".py",
   "mimetype": "text/x-python",
   "name": "python",
   "nbconvert_exporter": "python",
   "pygments_lexer": "ipython3",
   "version": "3.9.12"
  },
  "orig_nbformat": 4
 },
 "nbformat": 4,
 "nbformat_minor": 2
}
